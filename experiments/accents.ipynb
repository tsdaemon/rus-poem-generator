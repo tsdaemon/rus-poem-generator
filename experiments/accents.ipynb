{
 "cells": [
  {
   "cell_type": "code",
   "execution_count": 1,
   "metadata": {
    "collapsed": true
   },
   "outputs": [],
   "source": [
    "import os \n",
    "\n",
    "os.chdir('/Users/anatolii.stehnii/Projects/rus-poem-generator')"
   ]
  },
  {
   "cell_type": "code",
   "execution_count": 2,
   "metadata": {
    "collapsed": true
   },
   "outputs": [],
   "source": [
    "from word_forms import Phonetic\n",
    "\n",
    "ph = Phonetic('data/words_accent.json.bz2')"
   ]
  },
  {
   "cell_type": "code",
   "execution_count": 10,
   "metadata": {},
   "outputs": [
    {
     "data": {
      "text/plain": [
       "[('жечь', 1, 1),\n",
       " ('выжечь', 2, 1),\n",
       " ('возжечь', 2, 2),\n",
       " ('зажечь', 2, 2),\n",
       " ('дожечь', 2, 2),\n",
       " ('нажечь', 2, 2),\n",
       " ('обжечь', 2, 2),\n",
       " ('ожечь', 2, 2),\n",
       " ('пережечь', 3, 3),\n",
       " ('прижечь', 2, 2)]"
      ]
     },
     "execution_count": 10,
     "metadata": {},
     "output_type": "execute_result"
    }
   ],
   "source": [
    "data = [(word.lower(), ph.syllables_count(word), accent_num) for word, accent_num in ph.accents_dict.items() if ph.syllables_count(word) > 0]\n",
    "data[:10]"
   ]
  },
  {
   "cell_type": "code",
   "execution_count": 11,
   "metadata": {},
   "outputs": [
    {
     "data": {
      "text/plain": [
       "<matplotlib.axes._subplots.AxesSubplot at 0x108535fd0>"
      ]
     },
     "execution_count": 11,
     "metadata": {},
     "output_type": "execute_result"
    },
    {
     "data": {
      "image/png": "[encoded data removed]",
      "text/plain": [
       "<Figure size 432x288 with 1 Axes>"
      ]
     },
     "metadata": {},
     "output_type": "display_data"
    }
   ],
   "source": [
    "import pandas as pd\n",
    "%matplotlib inline\n",
    "\n",
    "df = pd.DataFrame(data=data, columns=['word', 'count', 'accent'])\n",
    "df.accent.hist()"
   ]
  },
  {
   "cell_type": "code",
   "execution_count": 13,
   "metadata": {},
   "outputs": [
    {
     "data": {
      "text/plain": [
       "{'-': 28,\n",
       " 'c': 13,\n",
       " '|': 0,\n",
       " 'а': 1,\n",
       " 'б': 2,\n",
       " 'в': 14,\n",
       " 'г': 21,\n",
       " 'д': 25,\n",
       " 'е': 32,\n",
       " 'ж': 6,\n",
       " 'з': 29,\n",
       " 'и': 3,\n",
       " 'й': 11,\n",
       " 'к': 15,\n",
       " 'л': 12,\n",
       " 'м': 24,\n",
       " 'н': 19,\n",
       " 'о': 20,\n",
       " 'п': 4,\n",
       " 'р': 5,\n",
       " 'с': 26,\n",
       " 'т': 35,\n",
       " 'у': 10,\n",
       " 'ф': 23,\n",
       " 'х': 27,\n",
       " 'ц': 34,\n",
       " 'ч': 22,\n",
       " 'ш': 33,\n",
       " 'щ': 16,\n",
       " 'ъ': 8,\n",
       " 'ы': 17,\n",
       " 'ь': 7,\n",
       " 'э': 18,\n",
       " 'ю': 9,\n",
       " 'я': 30,\n",
       " 'ё': 31}"
      ]
     },
     "execution_count": 13,
     "metadata": {},
     "output_type": "execute_result"
    }
   ],
   "source": [
    "# symbols vocabulary\n",
    "PAD_token = '|'\n",
    "\n",
    "PAD_idx = 0\n",
    "\n",
    "class CharVocab:\n",
    "    def __init__(self):\n",
    "        self.index2char = {\n",
    "            PAD_idx: PAD_token\n",
    "        }\n",
    "        self.char2index = {v: k for k, v in self.index2char.items()}\n",
    "\n",
    "    def index_word(self, word):\n",
    "        for char in set(word):\n",
    "            self.index_char(char)\n",
    "\n",
    "    def index_char(self, char):\n",
    "        if char not in self.char2index:\n",
    "            n_chars = len(self)\n",
    "            self.char2index[char] = n_chars\n",
    "            self.index2char[n_chars] = char\n",
    "            \n",
    "    def word_to_index(self, word):\n",
    "        return [self.char2index[c] for c in word]\n",
    "\n",
    "    def __len__(self):\n",
    "        assert len(self.index2char) == len(self.char2index)\n",
    "        return len(self.index2char)\n",
    "    \n",
    "all_words = ''.join([word for word,_,_ in data])\n",
    "vocab = CharVocab()\n",
    "vocab.index_word(all_words)\n",
    "vocab.char2index"
   ]
  },
  {
   "cell_type": "code",
   "execution_count": 14,
   "metadata": {},
   "outputs": [
    {
     "data": {
      "text/plain": [
       "(25, 10)"
      ]
     },
     "execution_count": 14,
     "metadata": {},
     "output_type": "execute_result"
    }
   ],
   "source": [
    "max_input_length = max(len(w) for w, _, _ in data)\n",
    "n_classes = max(i for _, _, i in data) + 1\n",
    "max_input_length, n_classes"
   ]
  },
  {
   "cell_type": "code",
   "execution_count": 9,
   "metadata": {},
   "outputs": [
    {
     "data": {
      "text/plain": [
       "(torch.Size([98307, 25]), torch.Size([98307]))"
      ]
     },
     "execution_count": 9,
     "metadata": {},
     "output_type": "execute_result"
    }
   ],
   "source": [
    "import torch\n",
    "\n",
    "def word_to_vector(word):\n",
    "    indexes = vocab.word_to_index(word)\n",
    "    if len(word) < max_input_length:\n",
    "        indexes += [PAD_idx]*(max_input_length-len(word))\n",
    "        \n",
    "    return torch.tensor(indexes)\n",
    "\n",
    "X = torch.cat([word_to_vector(w).unsqueeze(0) for w, _ in data])\n",
    "y = torch.cat([torch.tensor(s).unsqueeze(0) for _, s in data])\n",
    "\n",
    "X.shape, y.shape"
   ]
  },
  {
   "cell_type": "code",
   "execution_count": 45,
   "metadata": {
    "collapsed": true
   },
   "outputs": [],
   "source": [
    "RANDOM_SEED = 42\n",
    "torch.manual_seed(RANDOM_SEED)\n",
    "indexes = torch.randperm(len(data))\n",
    "\n",
    "X = X[indexes]\n",
    "y = y[indexes]"
   ]
  },
  {
   "cell_type": "code",
   "execution_count": 46,
   "metadata": {
    "collapsed": true
   },
   "outputs": [],
   "source": [
    "train, dev = int(len(data)*0.64), int(len(data)*0.16)\n",
    "\n",
    "X_train, X_dev, X_test = X[:train], X[train:train+dev], X[train+dev:]\n",
    "y_train, y_dev, y_test = y[:train], y[train:train+dev], y[train+dev:]"
   ]
  },
  {
   "cell_type": "code",
   "execution_count": 47,
   "metadata": {
    "collapsed": true
   },
   "outputs": [],
   "source": [
    "import torch.nn as nn\n",
    "import torch.nn.init as init\n",
    "\n",
    "class EncoderRNN(nn.Module):\n",
    "    def __init__(self, vocab_size, hidden_size, dropout=0.2, n_layers=1):\n",
    "        super().__init__()\n",
    "\n",
    "        self.vocab_size = vocab_size\n",
    "        self.hidden_size = hidden_size\n",
    "        self.n_layers = n_layers\n",
    "\n",
    "        self.embedding = nn.Embedding(vocab_size, hidden_size)\n",
    "        init.normal_(self.embedding.weight, 0.0, 0.2)\n",
    "\n",
    "        self.lstm = nn.LSTM(\n",
    "            hidden_size,\n",
    "            int(hidden_size/2),  # Bi-directional processing will ouput vectors of double size, therefore I reduced output dimensionality\n",
    "            num_layers=n_layers,\n",
    "            batch_first=True,  # First dimension of input tensor will be treated as a batch dimension\n",
    "            bidirectional=True,\n",
    "            dropout=dropout\n",
    "        )\n",
    "\n",
    "    # word_inputs: (batch_size, seq_length), h: (h_or_c, layer_n_direction, batch, seq_length)\n",
    "    def forward(self, inputs, hidden):         \n",
    "        # embedded (batch_size, seq_length, hidden_size)\n",
    "        embedded = self.embedding(inputs)\n",
    "        # output (batch_size, seq_length, hidden_size*directions)\n",
    "        # hidden (h: (num_layers*directions, batch_size, hidden_size),\n",
    "        #         c: (num_layers*directions, batch_size, hidden_size))\n",
    "        output, hidden = self.lstm(embedded, hidden)\n",
    "        return output, hidden\n",
    "\n",
    "    def init_hidden(self, batches):\n",
    "        hidden = torch.zeros(2, self.n_layers*2, batches, int(self.hidden_size/2))\n",
    "#         if USE_CUDA: hidden = hidden.cuda()\n",
    "        return hidden\n",
    "    \n",
    "class StressMulticlass(nn.Module):\n",
    "    def __init__(self, vocab, hidden_size, dropout, n_layers, n_classes):\n",
    "        super().__init__()\n",
    "        self.vocab = vocab\n",
    "        self.hidden_size = hidden_size\n",
    "        self.encoder = EncoderRNN(len(vocab), hidden_size, dropout, n_layers)\n",
    "        self.W = nn.Linear(hidden_size, n_classes)\n",
    "        self.softmax = nn.Softmax()\n",
    "        \n",
    "    def forward_train(self, X):\n",
    "        hidden = self.encoder.init_hidden(X.shape[0])\n",
    "        # hidden (h: (num_layers*directions, batch_size, hidden_size/2),\n",
    "        #         c: (num_layers*directions, batch_size, hidden_size/2))\n",
    "        _, hidden = self.encoder(X, hidden)\n",
    "        \n",
    "        # (batch_size, hidden_size)\n",
    "        h = hidden[0].permute(1,0,2).reshape(X.shape[0], self.hidden_size)\n",
    "        # (batch_size, n_classes)\n",
    "        pre_soft = self.W(h)\n",
    "        return pre_soft\n",
    "    \n",
    "    def forward(self, X):\n",
    "        pre_soft = self.forward_train(X)\n",
    "        return self.softmax(pre_soft)"
   ]
  },
  {
   "cell_type": "code",
   "execution_count": 48,
   "metadata": {},
   "outputs": [
    {
     "name": "stderr",
     "output_type": "stream",
     "text": [
      "/Users/anatolii.stehnii/anaconda3/lib/python3.6/site-packages/torch/nn/modules/rnn.py:38: UserWarning: dropout option adds dropout after all but last recurrent layer, so non-zero dropout expects num_layers greater than 1, but got dropout=0.2 and num_layers=1\n",
      "  \"num_layers={}\".format(dropout, num_layers))\n",
      "/Users/anatolii.stehnii/anaconda3/lib/python3.6/site-packages/ipykernel_launcher.py:62: UserWarning: Implicit dimension choice for softmax has been deprecated. Change the call to include dim=X as an argument.\n"
     ]
    },
    {
     "data": {
      "text/plain": [
       "tensor([[ 0.1004,  0.0944,  0.1035,  0.1072,  0.1022,  0.0961,  0.0993,\n",
       "          0.1042,  0.0976,  0.0951]])"
      ]
     },
     "execution_count": 48,
     "metadata": {},
     "output_type": "execute_result"
    }
   ],
   "source": [
    "model = StressMulticlass(vocab, 200, 0.2, 1, n_classes)\n",
    "model(X_dev[:1])"
   ]
  },
  {
   "cell_type": "code",
   "execution_count": 49,
   "metadata": {
    "collapsed": true
   },
   "outputs": [],
   "source": [
    "from torch.optim import Adam\n",
    "\n",
    "optim = Adam(model.parameters(), lr=0.0001)"
   ]
  },
  {
   "cell_type": "code",
   "execution_count": 50,
   "metadata": {
    "collapsed": true
   },
   "outputs": [],
   "source": [
    "import math\n",
    "\n",
    "def batch_generator(batch_indices, batch_size):\n",
    "    batches = math.ceil(len(batch_indices)/batch_size)\n",
    "    for i in range(batches):\n",
    "        batch_start = i*batch_size\n",
    "        batch_end = (i+1)*batch_size\n",
    "        if batch_end > len(batch_indices):\n",
    "            yield batch_indices[batch_start:]\n",
    "        else:\n",
    "            yield batch_indices[batch_start:batch_end]"
   ]
  },
  {
   "cell_type": "code",
   "execution_count": 51,
   "metadata": {
    "collapsed": true
   },
   "outputs": [],
   "source": [
    "cross_entropy = nn.CrossEntropyLoss()"
   ]
  },
  {
   "cell_type": "code",
   "execution_count": 52,
   "metadata": {
    "collapsed": true
   },
   "outputs": [],
   "source": [
    "def accuracy(y_true, y_pred):\n",
    "    _, indices = y_pred.max(1)\n",
    "    return (y_true == indices).sum().item()/len(y_true)\n",
    "    \n",
    "score_functions = {'Accuracy': accuracy}\n",
    "\n",
    "def score(model, X, y_true, desc='Scoring...'):\n",
    "    scores = {name:0.0 for name in score_functions.keys()}\n",
    "    y_pred = model(X)\n",
    "    \n",
    "    for name, func in score_functions.items():\n",
    "        score = func(y_true, y_pred)\n",
    "        scores[name] = score\n",
    "\n",
    "    return scores"
   ]
  },
  {
   "cell_type": "code",
   "execution_count": 54,
   "metadata": {},
   "outputs": [
    {
     "data": {
      "application/vnd.jupyter.widget-view+json": {
       "model_id": "40efb73ae351430dba3a15dc35ea4185",
       "version_major": 2,
       "version_minor": 0
      },
      "text/plain": [
       "A Jupyter Widget"
      ]
     },
     "metadata": {},
     "output_type": "display_data"
    },
    {
     "name": "stdout",
     "output_type": "stream",
     "text": [
      "\n"
     ]
    },
    {
     "name": "stderr",
     "output_type": "stream",
     "text": [
      "Exception in thread Thread-14:\n",
      "Traceback (most recent call last):\n",
      "  File \"/Users/anatolii.stehnii/anaconda3/lib/python3.6/threading.py\", line 916, in _bootstrap_inner\n",
      "    self.run()\n",
      "  File \"/Users/anatolii.stehnii/anaconda3/lib/python3.6/site-packages/tqdm/_tqdm.py\", line 144, in run\n",
      "    for instance in self.tqdm_cls._instances:\n",
      "  File \"/Users/anatolii.stehnii/anaconda3/lib/python3.6/_weakrefset.py\", line 60, in __iter__\n",
      "    for itemref in self.data:\n",
      "RuntimeError: Set changed size during iteration\n",
      "\n"
     ]
    },
    {
     "name": "stdout",
     "output_type": "stream",
     "text": [
      "\n",
      "Epoch 1 training is finished, loss: 0.5712\n"
     ]
    },
    {
     "name": "stderr",
     "output_type": "stream",
     "text": [
      "/Users/anatolii.stehnii/anaconda3/lib/python3.6/site-packages/ipykernel_launcher.py:62: UserWarning: Implicit dimension choice for softmax has been deprecated. Change the call to include dim=X as an argument.\n"
     ]
    },
    {
     "name": "stdout",
     "output_type": "stream",
     "text": [
      "Epoch 1 validation is finished.\n",
      "Accuracy: 0.7735\n",
      "The best model is found, resetting early stop counter.\n"
     ]
    },
    {
     "data": {
      "application/vnd.jupyter.widget-view+json": {
       "model_id": "7f1dc90344f54f6fa943c0d828078f53",
       "version_major": 2,
       "version_minor": 0
      },
      "text/plain": [
       "A Jupyter Widget"
      ]
     },
     "metadata": {},
     "output_type": "display_data"
    },
    {
     "name": "stdout",
     "output_type": "stream",
     "text": [
      "\n",
      "Epoch 2 training is finished, loss: 0.5569\n",
      "Epoch 2 validation is finished.\n",
      "Accuracy: 0.7778\n",
      "The best model is found, resetting early stop counter.\n"
     ]
    },
    {
     "data": {
      "application/vnd.jupyter.widget-view+json": {
       "model_id": "7d9eff26b9b648cd84667558eff75829",
       "version_major": 2,
       "version_minor": 0
      },
      "text/plain": [
       "A Jupyter Widget"
      ]
     },
     "metadata": {},
     "output_type": "display_data"
    },
    {
     "name": "stdout",
     "output_type": "stream",
     "text": [
      "\n",
      "Epoch 3 training is finished, loss: 0.5440\n",
      "Epoch 3 validation is finished.\n",
      "Accuracy: 0.7819\n",
      "The best model is found, resetting early stop counter.\n"
     ]
    },
    {
     "data": {
      "application/vnd.jupyter.widget-view+json": {
       "model_id": "c50bac32406545598a7edad0d5098ae6",
       "version_major": 2,
       "version_minor": 0
      },
      "text/plain": [
       "A Jupyter Widget"
      ]
     },
     "metadata": {},
     "output_type": "display_data"
    },
    {
     "name": "stdout",
     "output_type": "stream",
     "text": [
      "\n",
      "Epoch 4 training is finished, loss: 0.5325\n",
      "Epoch 4 validation is finished.\n",
      "Accuracy: 0.7842\n",
      "The best model is found, resetting early stop counter.\n"
     ]
    },
    {
     "data": {
      "application/vnd.jupyter.widget-view+json": {
       "model_id": "cb622808196448a6ad57b300ba6de92e",
       "version_major": 2,
       "version_minor": 0
      },
      "text/plain": [
       "A Jupyter Widget"
      ]
     },
     "metadata": {},
     "output_type": "display_data"
    },
    {
     "name": "stdout",
     "output_type": "stream",
     "text": [
      "\n",
      "Epoch 5 training is finished, loss: 0.5222\n",
      "Epoch 5 validation is finished.\n",
      "Accuracy: 0.7872\n",
      "The best model is found, resetting early stop counter.\n"
     ]
    },
    {
     "data": {
      "application/vnd.jupyter.widget-view+json": {
       "model_id": "f2150bd4b4ec40ee9b864182924a44d1",
       "version_major": 2,
       "version_minor": 0
      },
      "text/plain": [
       "A Jupyter Widget"
      ]
     },
     "metadata": {},
     "output_type": "display_data"
    },
    {
     "name": "stdout",
     "output_type": "stream",
     "text": [
      "\n",
      "Epoch 6 training is finished, loss: 0.5126\n",
      "Epoch 6 validation is finished.\n",
      "Accuracy: 0.7898\n",
      "The best model is found, resetting early stop counter.\n"
     ]
    },
    {
     "data": {
      "application/vnd.jupyter.widget-view+json": {
       "model_id": "6cc17568081c491091e6b1ea3b6e3139",
       "version_major": 2,
       "version_minor": 0
      },
      "text/plain": [
       "A Jupyter Widget"
      ]
     },
     "metadata": {},
     "output_type": "display_data"
    },
    {
     "name": "stdout",
     "output_type": "stream",
     "text": [
      "\n",
      "Epoch 7 training is finished, loss: 0.5038\n",
      "Epoch 7 validation is finished.\n",
      "Accuracy: 0.7927\n",
      "The best model is found, resetting early stop counter.\n"
     ]
    },
    {
     "data": {
      "application/vnd.jupyter.widget-view+json": {
       "model_id": "4c075dc9c6d84f709a8b3d70a4c78bda",
       "version_major": 2,
       "version_minor": 0
      },
      "text/plain": [
       "A Jupyter Widget"
      ]
     },
     "metadata": {},
     "output_type": "display_data"
    },
    {
     "name": "stdout",
     "output_type": "stream",
     "text": [
      "\n",
      "Epoch 8 training is finished, loss: 0.4955\n",
      "Epoch 8 validation is finished.\n",
      "Accuracy: 0.7949\n",
      "The best model is found, resetting early stop counter.\n"
     ]
    },
    {
     "data": {
      "application/vnd.jupyter.widget-view+json": {
       "model_id": "262b2e65cc4e498d9a777f5d076f038c",
       "version_major": 2,
       "version_minor": 0
      },
      "text/plain": [
       "A Jupyter Widget"
      ]
     },
     "metadata": {},
     "output_type": "display_data"
    },
    {
     "name": "stdout",
     "output_type": "stream",
     "text": [
      "\n",
      "Epoch 9 training is finished, loss: 0.4878\n",
      "Epoch 9 validation is finished.\n",
      "Accuracy: 0.7973\n",
      "The best model is found, resetting early stop counter.\n"
     ]
    },
    {
     "data": {
      "application/vnd.jupyter.widget-view+json": {
       "model_id": "afc3766e328d4f25bba81433eb96bffc",
       "version_major": 2,
       "version_minor": 0
      },
      "text/plain": [
       "A Jupyter Widget"
      ]
     },
     "metadata": {},
     "output_type": "display_data"
    },
    {
     "name": "stdout",
     "output_type": "stream",
     "text": [
      "\n",
      "Epoch 10 training is finished, loss: 0.4806\n",
      "Epoch 10 validation is finished.\n",
      "Accuracy: 0.7985\n",
      "The best model is found, resetting early stop counter.\n"
     ]
    },
    {
     "data": {
      "application/vnd.jupyter.widget-view+json": {
       "model_id": "69c605bec8834f34b4aefc676c931eec",
       "version_major": 2,
       "version_minor": 0
      },
      "text/plain": [
       "A Jupyter Widget"
      ]
     },
     "metadata": {},
     "output_type": "display_data"
    },
    {
     "name": "stdout",
     "output_type": "stream",
     "text": [
      "\n",
      "Epoch 11 training is finished, loss: 0.4738\n",
      "Epoch 11 validation is finished.\n",
      "Accuracy: 0.8004\n",
      "The best model is found, resetting early stop counter.\n"
     ]
    },
    {
     "data": {
      "application/vnd.jupyter.widget-view+json": {
       "model_id": "65206e917e3741cf85988fa6e8af5524",
       "version_major": 2,
       "version_minor": 0
      },
      "text/plain": [
       "A Jupyter Widget"
      ]
     },
     "metadata": {},
     "output_type": "display_data"
    },
    {
     "name": "stdout",
     "output_type": "stream",
     "text": [
      "\n",
      "Epoch 12 training is finished, loss: 0.4672\n",
      "Epoch 12 validation is finished.\n",
      "Accuracy: 0.8023\n",
      "The best model is found, resetting early stop counter.\n"
     ]
    },
    {
     "data": {
      "application/vnd.jupyter.widget-view+json": {
       "model_id": "10a29e93eb504de4a1f42c6dbfd425ba",
       "version_major": 2,
       "version_minor": 0
      },
      "text/plain": [
       "A Jupyter Widget"
      ]
     },
     "metadata": {},
     "output_type": "display_data"
    },
    {
     "name": "stdout",
     "output_type": "stream",
     "text": [
      "\n",
      "Epoch 13 training is finished, loss: 0.4609\n",
      "Epoch 13 validation is finished.\n",
      "Accuracy: 0.8034\n",
      "The best model is found, resetting early stop counter.\n"
     ]
    },
    {
     "data": {
      "application/vnd.jupyter.widget-view+json": {
       "model_id": "347b39d26b9546c3ae94bb8abee391fe",
       "version_major": 2,
       "version_minor": 0
      },
      "text/plain": [
       "A Jupyter Widget"
      ]
     },
     "metadata": {},
     "output_type": "display_data"
    },
    {
     "name": "stdout",
     "output_type": "stream",
     "text": [
      "\n",
      "Epoch 14 training is finished, loss: 0.4550\n",
      "Epoch 14 validation is finished.\n",
      "Accuracy: 0.8062\n",
      "The best model is found, resetting early stop counter.\n"
     ]
    },
    {
     "data": {
      "application/vnd.jupyter.widget-view+json": {
       "model_id": "ecb7fd989eff46c48ecc9eebe7dc557a",
       "version_major": 2,
       "version_minor": 0
      },
      "text/plain": [
       "A Jupyter Widget"
      ]
     },
     "metadata": {},
     "output_type": "display_data"
    },
    {
     "name": "stdout",
     "output_type": "stream",
     "text": [
      "\n",
      "Epoch 15 training is finished, loss: 0.4493\n",
      "Epoch 15 validation is finished.\n",
      "Accuracy: 0.8083\n",
      "The best model is found, resetting early stop counter.\n"
     ]
    },
    {
     "data": {
      "application/vnd.jupyter.widget-view+json": {
       "model_id": "58794e2d31154a79ac4f794b5f750fc7",
       "version_major": 2,
       "version_minor": 0
      },
      "text/plain": [
       "A Jupyter Widget"
      ]
     },
     "metadata": {},
     "output_type": "display_data"
    },
    {
     "name": "stdout",
     "output_type": "stream",
     "text": [
      "\n",
      "Epoch 16 training is finished, loss: 0.4438\n",
      "Epoch 16 validation is finished.\n",
      "Accuracy: 0.8097\n",
      "The best model is found, resetting early stop counter.\n"
     ]
    },
    {
     "data": {
      "application/vnd.jupyter.widget-view+json": {
       "model_id": "7e162ec44c404d0f8ca925f09e4c48bd",
       "version_major": 2,
       "version_minor": 0
      },
      "text/plain": [
       "A Jupyter Widget"
      ]
     },
     "metadata": {},
     "output_type": "display_data"
    },
    {
     "name": "stdout",
     "output_type": "stream",
     "text": [
      "\n",
      "Epoch 17 training is finished, loss: 0.4384\n",
      "Epoch 17 validation is finished.\n",
      "Accuracy: 0.8114\n",
      "The best model is found, resetting early stop counter.\n"
     ]
    },
    {
     "data": {
      "application/vnd.jupyter.widget-view+json": {
       "model_id": "e5ac37063d3d4c218871e2c3aec0bf08",
       "version_major": 2,
       "version_minor": 0
      },
      "text/plain": [
       "A Jupyter Widget"
      ]
     },
     "metadata": {},
     "output_type": "display_data"
    },
    {
     "name": "stdout",
     "output_type": "stream",
     "text": [
      "\n",
      "Epoch 18 training is finished, loss: 0.4333\n",
      "Epoch 18 validation is finished.\n",
      "Accuracy: 0.8131\n",
      "The best model is found, resetting early stop counter.\n"
     ]
    },
    {
     "data": {
      "application/vnd.jupyter.widget-view+json": {
       "model_id": "8548ee0aacd94473a9b167d554a0f5c3",
       "version_major": 2,
       "version_minor": 0
      },
      "text/plain": [
       "A Jupyter Widget"
      ]
     },
     "metadata": {},
     "output_type": "display_data"
    },
    {
     "name": "stdout",
     "output_type": "stream",
     "text": [
      "\n",
      "Epoch 19 training is finished, loss: 0.4282\n",
      "Epoch 19 validation is finished.\n",
      "Accuracy: 0.8141\n",
      "The best model is found, resetting early stop counter.\n"
     ]
    },
    {
     "data": {
      "application/vnd.jupyter.widget-view+json": {
       "model_id": "0b64f259f4514fb59d2b71d67062cf54",
       "version_major": 2,
       "version_minor": 0
      },
      "text/plain": [
       "A Jupyter Widget"
      ]
     },
     "metadata": {},
     "output_type": "display_data"
    },
    {
     "name": "stdout",
     "output_type": "stream",
     "text": [
      "\n",
      "Epoch 20 training is finished, loss: 0.4232\n",
      "Epoch 20 validation is finished.\n",
      "Accuracy: 0.8153\n",
      "The best model is found, resetting early stop counter.\n"
     ]
    },
    {
     "data": {
      "application/vnd.jupyter.widget-view+json": {
       "model_id": "9ffbbee997c84d0cab59aaaaaf48e975",
       "version_major": 2,
       "version_minor": 0
      },
      "text/plain": [
       "A Jupyter Widget"
      ]
     },
     "metadata": {},
     "output_type": "display_data"
    },
    {
     "name": "stdout",
     "output_type": "stream",
     "text": [
      "\n",
      "Epoch 21 training is finished, loss: 0.4183\n",
      "Epoch 21 validation is finished.\n",
      "Accuracy: 0.8155\n",
      "The best model is found, resetting early stop counter.\n"
     ]
    },
    {
     "data": {
      "application/vnd.jupyter.widget-view+json": {
       "model_id": "b5aa6716fb0f4aeba66c625debc42981",
       "version_major": 2,
       "version_minor": 0
      },
      "text/plain": [
       "A Jupyter Widget"
      ]
     },
     "metadata": {},
     "output_type": "display_data"
    },
    {
     "name": "stdout",
     "output_type": "stream",
     "text": [
      "\n",
      "Epoch 22 training is finished, loss: 0.4136\n",
      "Epoch 22 validation is finished.\n",
      "Accuracy: 0.8156\n",
      "The best model is found, resetting early stop counter.\n"
     ]
    },
    {
     "data": {
      "application/vnd.jupyter.widget-view+json": {
       "model_id": "8cf55a0613f9484dad1bc529a58ef54b",
       "version_major": 2,
       "version_minor": 0
      },
      "text/plain": [
       "A Jupyter Widget"
      ]
     },
     "metadata": {},
     "output_type": "display_data"
    },
    {
     "name": "stdout",
     "output_type": "stream",
     "text": [
      "\n",
      "Epoch 23 training is finished, loss: 0.4090\n",
      "Epoch 23 validation is finished.\n",
      "Accuracy: 0.8158\n",
      "The best model is found, resetting early stop counter.\n"
     ]
    },
    {
     "data": {
      "application/vnd.jupyter.widget-view+json": {
       "model_id": "5fd09409f1104cf590458db66b999e47",
       "version_major": 2,
       "version_minor": 0
      },
      "text/plain": [
       "A Jupyter Widget"
      ]
     },
     "metadata": {},
     "output_type": "display_data"
    },
    {
     "name": "stdout",
     "output_type": "stream",
     "text": [
      "\n",
      "Epoch 24 training is finished, loss: 0.4047\n",
      "Epoch 24 validation is finished.\n",
      "Accuracy: 0.8175\n",
      "The best model is found, resetting early stop counter.\n"
     ]
    },
    {
     "data": {
      "application/vnd.jupyter.widget-view+json": {
       "model_id": "79b602d747cd4f47bca55f66588ff2be",
       "version_major": 2,
       "version_minor": 0
      },
      "text/plain": [
       "A Jupyter Widget"
      ]
     },
     "metadata": {},
     "output_type": "display_data"
    },
    {
     "name": "stdout",
     "output_type": "stream",
     "text": [
      "\n",
      "Epoch 25 training is finished, loss: 0.4005\n",
      "Epoch 25 validation is finished.\n",
      "Accuracy: 0.8186\n",
      "The best model is found, resetting early stop counter.\n"
     ]
    },
    {
     "data": {
      "application/vnd.jupyter.widget-view+json": {
       "model_id": "f6f3e371f84145c28b24560ea701611f",
       "version_major": 2,
       "version_minor": 0
      },
      "text/plain": [
       "A Jupyter Widget"
      ]
     },
     "metadata": {},
     "output_type": "display_data"
    },
    {
     "name": "stdout",
     "output_type": "stream",
     "text": [
      "\n",
      "Epoch 26 training is finished, loss: 0.3965\n",
      "Epoch 26 validation is finished.\n",
      "Accuracy: 0.8191\n",
      "The best model is found, resetting early stop counter.\n"
     ]
    },
    {
     "data": {
      "application/vnd.jupyter.widget-view+json": {
       "model_id": "1c74726e7ef94ed8b67992c49ebc0d7f",
       "version_major": 2,
       "version_minor": 0
      },
      "text/plain": [
       "A Jupyter Widget"
      ]
     },
     "metadata": {},
     "output_type": "display_data"
    },
    {
     "name": "stdout",
     "output_type": "stream",
     "text": [
      "\n",
      "Epoch 27 training is finished, loss: 0.3927\n",
      "Epoch 27 validation is finished.\n",
      "Accuracy: 0.8183\n",
      "No improvements for 1 epochs.\n"
     ]
    },
    {
     "data": {
      "application/vnd.jupyter.widget-view+json": {
       "model_id": "adcb7a7ac5c141678c0da2c44da49be6",
       "version_major": 2,
       "version_minor": 0
      },
      "text/plain": [
       "A Jupyter Widget"
      ]
     },
     "metadata": {},
     "output_type": "display_data"
    },
    {
     "name": "stdout",
     "output_type": "stream",
     "text": [
      "\n",
      "Epoch 28 training is finished, loss: 0.3890\n",
      "Epoch 28 validation is finished.\n",
      "Accuracy: 0.8185\n",
      "No improvements for 2 epochs.\n"
     ]
    },
    {
     "data": {
      "application/vnd.jupyter.widget-view+json": {
       "model_id": "a35e43ef519f49a3bfaa0e6ffcccb5f0",
       "version_major": 2,
       "version_minor": 0
      },
      "text/plain": [
       "A Jupyter Widget"
      ]
     },
     "metadata": {},
     "output_type": "display_data"
    },
    {
     "name": "stdout",
     "output_type": "stream",
     "text": [
      "\n",
      "Epoch 29 training is finished, loss: 0.3855\n",
      "Epoch 29 validation is finished.\n",
      "Accuracy: 0.8179\n",
      "No improvements for 3 epochs.\n"
     ]
    },
    {
     "data": {
      "application/vnd.jupyter.widget-view+json": {
       "model_id": "0b0560a0c93e4b23bdde7598ec4de782",
       "version_major": 2,
       "version_minor": 0
      },
      "text/plain": [
       "A Jupyter Widget"
      ]
     },
     "metadata": {},
     "output_type": "display_data"
    },
    {
     "name": "stdout",
     "output_type": "stream",
     "text": [
      "\n",
      "Epoch 30 training is finished, loss: 0.3820\n",
      "Epoch 30 validation is finished.\n",
      "Accuracy: 0.8179\n",
      "No improvements for 4 epochs.\n"
     ]
    },
    {
     "data": {
      "application/vnd.jupyter.widget-view+json": {
       "model_id": "68202285b6ac4d8b86b718b25b3e4a1d",
       "version_major": 2,
       "version_minor": 0
      },
      "text/plain": [
       "A Jupyter Widget"
      ]
     },
     "metadata": {},
     "output_type": "display_data"
    },
    {
     "name": "stdout",
     "output_type": "stream",
     "text": [
      "\n",
      "Epoch 31 training is finished, loss: 0.3786\n",
      "Epoch 31 validation is finished.\n",
      "Accuracy: 0.8172\n",
      "No improvements for 5 epochs.\n"
     ]
    },
    {
     "data": {
      "application/vnd.jupyter.widget-view+json": {
       "model_id": "3c1694fef3074c21b69ea152f1e68872",
       "version_major": 2,
       "version_minor": 0
      },
      "text/plain": [
       "A Jupyter Widget"
      ]
     },
     "metadata": {},
     "output_type": "display_data"
    },
    {
     "name": "stdout",
     "output_type": "stream",
     "text": [
      "\n",
      "Epoch 32 training is finished, loss: 0.3752\n",
      "Epoch 32 validation is finished.\n",
      "Accuracy: 0.8170\n",
      "No improvements for 6 epochs.\n"
     ]
    },
    {
     "data": {
      "application/vnd.jupyter.widget-view+json": {
       "model_id": "2cd4b87d95554de399bf12452e79235d",
       "version_major": 2,
       "version_minor": 0
      },
      "text/plain": [
       "A Jupyter Widget"
      ]
     },
     "metadata": {},
     "output_type": "display_data"
    },
    {
     "name": "stdout",
     "output_type": "stream",
     "text": [
      "\n",
      "Epoch 33 training is finished, loss: 0.3719\n",
      "Epoch 33 validation is finished.\n",
      "Accuracy: 0.8177\n",
      "No improvements for 7 epochs.\n"
     ]
    },
    {
     "data": {
      "application/vnd.jupyter.widget-view+json": {
       "model_id": "b5e99cdb9eef4b47b142e2f7c0f65a41",
       "version_major": 2,
       "version_minor": 0
      },
      "text/plain": [
       "A Jupyter Widget"
      ]
     },
     "metadata": {},
     "output_type": "display_data"
    },
    {
     "name": "stdout",
     "output_type": "stream",
     "text": [
      "\n",
      "Epoch 34 training is finished, loss: 0.3686\n",
      "Epoch 34 validation is finished.\n",
      "Accuracy: 0.8182\n",
      "No improvements for 8 epochs.\n"
     ]
    },
    {
     "data": {
      "application/vnd.jupyter.widget-view+json": {
       "model_id": "8307f7f6c3d94934b65ec3d77a5224ed",
       "version_major": 2,
       "version_minor": 0
      },
      "text/plain": [
       "A Jupyter Widget"
      ]
     },
     "metadata": {},
     "output_type": "display_data"
    },
    {
     "name": "stdout",
     "output_type": "stream",
     "text": [
      "\n",
      "Epoch 35 training is finished, loss: 0.3654\n",
      "Epoch 35 validation is finished.\n",
      "Accuracy: 0.8186\n",
      "No improvements for 9 epochs.\n"
     ]
    },
    {
     "data": {
      "application/vnd.jupyter.widget-view+json": {
       "model_id": "259135927012451c9ec85875fa469d46",
       "version_major": 2,
       "version_minor": 0
      },
      "text/plain": [
       "A Jupyter Widget"
      ]
     },
     "metadata": {},
     "output_type": "display_data"
    },
    {
     "name": "stdout",
     "output_type": "stream",
     "text": [
      "\n",
      "Epoch 36 training is finished, loss: 0.3622\n",
      "Epoch 36 validation is finished.\n",
      "Accuracy: 0.8191\n",
      "No improvements for 10 epochs.\n",
      "Early stop!\n"
     ]
    }
   ],
   "source": [
    "from tqdm import tqdm_notebook as tqdm\n",
    "\n",
    "BATCH_SIZE = 100\n",
    "training_length = len(X_train)\n",
    "total_batches = int(training_length/BATCH_SIZE) + 1\n",
    "indices = list(range(training_length))\n",
    "\n",
    "early_stop_after = 10\n",
    "early_stop_counter = 0\n",
    "best_model = None\n",
    "\n",
    "best_score = 0.0\n",
    "scoring_metric = 'Accuracy'\n",
    "scores_history = []\n",
    "loss_history = []\n",
    "\n",
    "for epoch in range(10000):\n",
    "    # Training\n",
    "    total_loss = 0.0\n",
    "    model.train()\n",
    "    for step, batch in tqdm(enumerate(batch_generator(indices, BATCH_SIZE)),\n",
    "                            desc='Training epoch {}'.format(epoch+1),\n",
    "                            total=total_batches):\n",
    "        x = X_train[batch, :]\n",
    "        y_true = y_train[batch]\n",
    "        # (batch_size, n_classes)\n",
    "        H = model.forward_train(x)\n",
    "        loss = cross_entropy(H, y_true)\n",
    "\n",
    "        assert loss.item() > 0\n",
    "\n",
    "        optim.zero_grad()\n",
    "        loss.backward()\n",
    "        optim.step()\n",
    "\n",
    "        total_loss += loss.item()\n",
    "        \n",
    "    loss_history.append(total_loss/total_batches)\n",
    "    print('Epoch {} training is finished, loss: {:.4f}'.format(epoch+1, total_loss/total_batches))\n",
    "    \n",
    "    desc = 'Validating epoch {}'.format(epoch+1)\n",
    "    model.eval()\n",
    "    scores = score(model, X_dev, y_dev, desc=desc)\n",
    "    scores_str = '\\n'.join(['{}: {:.4f}'.format(name, score) for name, score in scores.items()])\n",
    "    scores_history.append(scores)\n",
    "\n",
    "    print ('Epoch {} validation is finished.\\n{}'.format(\n",
    "        epoch+1, scores_str\n",
    "    ))\n",
    "\n",
    "    metric = scores[scoring_metric]\n",
    "\n",
    "    # Early Stop\n",
    "    if metric > best_score:\n",
    "        early_stop_counter = 0\n",
    "        print('The best model is found, resetting early stop counter.')\n",
    "        best_score = metric\n",
    "        best_model = model\n",
    "    else:\n",
    "        early_stop_counter += 1\n",
    "        print('No improvements for {} epochs.'.format(early_stop_counter))\n",
    "        if early_stop_counter >= early_stop_after:\n",
    "            print('Early stop!')\n",
    "            break"
   ]
  },
  {
   "cell_type": "code",
   "execution_count": 63,
   "metadata": {},
   "outputs": [
    {
     "data": {
      "text/plain": [
       "2"
      ]
     },
     "execution_count": 63,
     "metadata": {},
     "output_type": "execute_result"
    }
   ],
   "source": [
    "word = \"вобла\"\n",
    "count = ph.syllables_count(word)\n",
    "count"
   ]
  },
  {
   "cell_type": "code",
   "execution_count": 64,
   "metadata": {},
   "outputs": [
    {
     "data": {
      "text/plain": [
       "tensor([[ 35,  21,  26,  17,   4]])"
      ]
     },
     "execution_count": 64,
     "metadata": {},
     "output_type": "execute_result"
    }
   ],
   "source": [
    "tensor = torch.tensor(vocab.word_to_index(word)).unsqueeze(0)\n",
    "tensor"
   ]
  },
  {
   "cell_type": "code",
   "execution_count": 65,
   "metadata": {},
   "outputs": [
    {
     "name": "stderr",
     "output_type": "stream",
     "text": [
      "/Users/anatolii.stehnii/anaconda3/lib/python3.6/site-packages/ipykernel_launcher.py:62: UserWarning: Implicit dimension choice for softmax has been deprecated. Change the call to include dim=X as an argument.\n"
     ]
    },
    {
     "data": {
      "text/plain": [
       "tensor([[ 0.0926,  0.0368,  0.0560,  0.0719,  0.0564,  0.1132,  0.1971,\n",
       "          0.2511,  0.0984,  0.0265]])"
      ]
     },
     "execution_count": 65,
     "metadata": {},
     "output_type": "execute_result"
    }
   ],
   "source": [
    "model(tensor)"
   ]
  },
  {
   "cell_type": "code",
   "execution_count": 69,
   "metadata": {},
   "outputs": [
    {
     "data": {
      "text/plain": [
       "tensor([ 2,  3,  2,  3,  4,  2,  2,  2,  2,  3,  3,  6,  3,  3,\n",
       "         2,  2,  3,  5,  4,  2])"
      ]
     },
     "execution_count": 69,
     "metadata": {},
     "output_type": "execute_result"
    }
   ],
   "source": [
    "y_train[20:40]"
   ]
  },
  {
   "cell_type": "code",
   "execution_count": null,
   "metadata": {
    "collapsed": true
   },
   "outputs": [],
   "source": []
  }
 ],
 "metadata": {
  "kernelspec": {
   "display_name": "Python 3",
   "language": "python",
   "name": "python3"
  },
  "language_info": {
   "codemirror_mode": {
    "name": "ipython",
    "version": 3
   },
   "file_extension": ".py",
   "mimetype": "text/x-python",
   "name": "python",
   "nbconvert_exporter": "python",
   "pygments_lexer": "ipython3",
   "version": "3.6.3"
  }
 },
 "nbformat": 4,
 "nbformat_minor": 2
}
