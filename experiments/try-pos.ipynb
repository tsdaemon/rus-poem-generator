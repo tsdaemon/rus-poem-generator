{
 "cells": [
  {
   "cell_type": "code",
   "execution_count": 1,
   "metadata": {
    "collapsed": true
   },
   "outputs": [],
   "source": [
    "import pymystem3\n",
    "\n",
    "pos = pymystem3.Mystem()"
   ]
  },
  {
   "cell_type": "code",
   "execution_count": 2,
   "metadata": {},
   "outputs": [
    {
     "data": {
      "text/plain": [
       "[{'gr': 'PR=', 'lex': 'по', 'wt': 1},\n",
       " {'gr': 'S,жен,неод=(пр,ед|дат,ед)', 'lex': 'река', 'wt': 1},\n",
       " {'gr': 'V,несов,нп=прош,ед,изъяв,муж', 'lex': 'плыть', 'wt': 1},\n",
       " {'gr': 'A=(вин,ед,полн,муж,неод|им,ед,полн,муж|пр,ед,полн,жен|дат,ед,полн,жен|род,ед,полн,жен|твор,ед,полн,жен)',\n",
       "  'lex': 'большой',\n",
       "  'wt': 1},\n",
       " {'gr': 'S,муж,неод=(вин,ед|им,ед)', 'lex': 'кораблик', 'wt': 1},\n",
       " {'gr': 'CONJ=', 'lex': 'и', 'wt': 0.9999770357000001},\n",
       " {'gr': 'V=прош,ед,изъяв,муж,несов,пе', 'lex': 'пускать', 'wt': 1},\n",
       " {'gr': 'S,муж,неод=(вин,ед|им,ед)', 'lex': 'дым', 'wt': 1}]"
      ]
     },
     "execution_count": 2,
     "metadata": {},
     "output_type": "execute_result"
    }
   ],
   "source": [
    "[a['analysis'][0] for a in pos.analyze('По реке плыл большой кораблик и пускал дым') if 'analysis' in a]"
   ]
  },
  {
   "cell_type": "code",
   "execution_count": 3,
   "metadata": {
    "collapsed": true
   },
   "outputs": [],
   "source": [
    "import pymorphy2 as pm"
   ]
  },
  {
   "cell_type": "code",
   "execution_count": 4,
   "metadata": {
    "collapsed": true
   },
   "outputs": [],
   "source": [
    "analyzer = pm.MorphAnalyzer()"
   ]
  },
  {
   "cell_type": "code",
   "execution_count": 17,
   "metadata": {},
   "outputs": [
    {
     "name": "stdout",
     "output_type": "stream",
     "text": [
      "PREP ПР\n",
      "NOUN,inan,femn sing,loct СУЩ,неод,жр ед,пр\n",
      "VERB,impf,intr masc,sing,past,indc ГЛ,несов,неперех мр,ед,прош,изъяв\n",
      "ADJF,Qual femn,sing,gent ПРИЛ,кач жр,ед,рд\n",
      "NOUN,inan,masc sing,nomn СУЩ,неод,мр ед,им\n",
      "CONJ СОЮЗ\n",
      "VERB,impf,tran masc,sing,past,indc ГЛ,несов,перех мр,ед,прош,изъяв\n",
      "ADJF,Qual masc,sing,nomn ПРИЛ,кач мр,ед,им\n",
      "NOUN,inan,masc sing,nomn СУЩ,неод,мр ед,им\n",
      "PREP Vpre ПР в_предл\n",
      "ADJF,Apro plur,nomn ПРИЛ,мест-п мн,им\n",
      "NOUN,inan,femn sing,gent СУЩ,неод,жр ед,рд\n"
     ]
    }
   ],
   "source": [
    "for token in 'По реке плыл большой кораблик и пускал темный дым во все стороны'.split():\n",
    "    print(analyzer.parse(token)[0].tag, analyzer.parse(token)[0].tag.cyr_repr)"
   ]
  },
  {
   "cell_type": "code",
   "execution_count": 35,
   "metadata": {},
   "outputs": [
    {
     "data": {
      "text/plain": [
       "['ANIMACY',\n",
       " 'ASPECTS',\n",
       " 'CASES',\n",
       " 'FORMAT',\n",
       " 'GENDERS',\n",
       " 'INVOLVEMENT',\n",
       " 'KNOWN_GRAMMEMES',\n",
       " 'MOODS',\n",
       " 'NUMBERS',\n",
       " 'PARTS_OF_SPEECH',\n",
       " 'PERSONS',\n",
       " 'POS',\n",
       " 'RARE_CASES',\n",
       " 'TENSES',\n",
       " 'TRANSITIVITY',\n",
       " 'VOICES',\n",
       " '_CYR2LAT',\n",
       " '_EXTRA_INCOMPATIBLE',\n",
       " '_GRAMMEME_INCOMPATIBLE',\n",
       " '_GRAMMEME_INDICES',\n",
       " '_LAT2CYR',\n",
       " '_NON_PRODUCTIVE_GRAMMEMES',\n",
       " '_NUMERAL_AGREEMENT_GRAMMEMES',\n",
       " '_POS',\n",
       " '__class__',\n",
       " '__contains__',\n",
       " '__delattr__',\n",
       " '__dir__',\n",
       " '__doc__',\n",
       " '__eq__',\n",
       " '__format__',\n",
       " '__ge__',\n",
       " '__getattribute__',\n",
       " '__gt__',\n",
       " '__hash__',\n",
       " '__init__',\n",
       " '__init_subclass__',\n",
       " '__le__',\n",
       " '__len__',\n",
       " '__lt__',\n",
       " '__module__',\n",
       " '__ne__',\n",
       " '__new__',\n",
       " '__reduce__',\n",
       " '__reduce_ex__',\n",
       " '__repr__',\n",
       " '__setattr__',\n",
       " '__sizeof__',\n",
       " '__slots__',\n",
       " '__str__',\n",
       " '__subclasshook__',\n",
       " '_assert_grammemes_are_known',\n",
       " '_assert_grammemes_initialized',\n",
       " '_cyr',\n",
       " '_cyr_grammemes_cache',\n",
       " '_from_internal_grammeme',\n",
       " '_from_internal_tag',\n",
       " '_grammemes_cache',\n",
       " '_grammemes_tuple',\n",
       " '_init_grammemes',\n",
       " '_is_unknown',\n",
       " '_str',\n",
       " 'add_grammemes_to_known',\n",
       " 'animacy',\n",
       " 'aspect',\n",
       " 'case',\n",
       " 'cyr2lat',\n",
       " 'cyr_repr',\n",
       " 'fix_rare_cases',\n",
       " 'gender',\n",
       " 'grammeme_is_known',\n",
       " 'grammemes',\n",
       " 'grammemes_cyr',\n",
       " 'involvement',\n",
       " 'is_productive',\n",
       " 'lat2cyr',\n",
       " 'mood',\n",
       " 'number',\n",
       " 'numeral_agreement_grammemes',\n",
       " 'person',\n",
       " 'tense',\n",
       " 'transitivity',\n",
       " 'typed_grammemes',\n",
       " 'updated_grammemes',\n",
       " 'voice']"
      ]
     },
     "execution_count": 35,
     "metadata": {},
     "output_type": "execute_result"
    }
   ],
   "source": [
    "tag = analyzer.parse('лиса')[0].tag\n",
    "dir(tag)"
   ]
  },
  {
   "cell_type": "code",
   "execution_count": 36,
   "metadata": {},
   "outputs": [
    {
     "data": {
      "text/plain": [
       "'masc'"
      ]
     },
     "execution_count": 36,
     "metadata": {},
     "output_type": "execute_result"
    }
   ],
   "source": [
    "tag.gender"
   ]
  },
  {
   "cell_type": "code",
   "execution_count": 38,
   "metadata": {},
   "outputs": [
    {
     "data": {
      "text/plain": [
       "'sing'"
      ]
     },
     "execution_count": 38,
     "metadata": {},
     "output_type": "execute_result"
    }
   ],
   "source": [
    "tag.number"
   ]
  },
  {
   "cell_type": "code",
   "execution_count": 40,
   "metadata": {},
   "outputs": [
    {
     "data": {
      "text/plain": [
       "'sing'"
      ]
     },
     "execution_count": 40,
     "metadata": {},
     "output_type": "execute_result"
    }
   ],
   "source": [
    "tag = analyzer.parse('плыл')[0].tag\n",
    "tag.number"
   ]
  },
  {
   "cell_type": "code",
   "execution_count": 41,
   "metadata": {},
   "outputs": [
    {
     "data": {
      "text/plain": [
       "'past'"
      ]
     },
     "execution_count": 41,
     "metadata": {},
     "output_type": "execute_result"
    }
   ],
   "source": [
    "tag.tense"
   ]
  },
  {
   "cell_type": "code",
   "execution_count": 50,
   "metadata": {},
   "outputs": [
    {
     "data": {
      "text/plain": [
       "[Parse(word='лисы', tag=OpencorporaTag('NOUN,anim,masc plur,nomn'), normal_form='лис', score=0.3333333333333333, methods_stack=((<DictionaryAnalyzer>, 'лисы', 52, 6),)),\n",
       " Parse(word='лисы', tag=OpencorporaTag('NOUN,anim,femn sing,gent'), normal_form='лиса', score=0.3333333333333333, methods_stack=((<DictionaryAnalyzer>, 'лисы', 53, 1),)),\n",
       " Parse(word='лисы', tag=OpencorporaTag('NOUN,anim,femn plur,nomn'), normal_form='лиса', score=0.3333333333333333, methods_stack=((<DictionaryAnalyzer>, 'лисы', 53, 7),))]"
      ]
     },
     "execution_count": 50,
     "metadata": {},
     "output_type": "execute_result"
    }
   ],
   "source": [
    "analyzer.parse('лисы')"
   ]
  },
  {
   "cell_type": "code",
   "execution_count": 54,
   "metadata": {},
   "outputs": [
    {
     "data": {
      "text/plain": [
       "'gent'"
      ]
     },
     "execution_count": 54,
     "metadata": {},
     "output_type": "execute_result"
    }
   ],
   "source": [
    "tag[1].tag.case"
   ]
  },
  {
   "cell_type": "code",
   "execution_count": null,
   "metadata": {
    "collapsed": true
   },
   "outputs": [],
   "source": []
  }
 ],
 "metadata": {
  "kernelspec": {
   "display_name": "Python 3",
   "language": "python",
   "name": "python3"
  },
  "language_info": {
   "codemirror_mode": {
    "name": "ipython",
    "version": 3
   },
   "file_extension": ".py",
   "mimetype": "text/x-python",
   "name": "python",
   "nbconvert_exporter": "python",
   "pygments_lexer": "ipython3",
   "version": "3.6.3"
  }
 },
 "nbformat": 4,
 "nbformat_minor": 2
}
