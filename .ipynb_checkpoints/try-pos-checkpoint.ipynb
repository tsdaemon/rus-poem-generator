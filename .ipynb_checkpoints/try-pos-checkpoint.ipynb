{
 "cells": [
  {
   "cell_type": "code",
   "execution_count": 1,
   "metadata": {
    "collapsed": true
   },
   "outputs": [],
   "source": [
    "import pymystem3\n",
    "\n",
    "pos = pymystem3.Mystem()"
   ]
  },
  {
   "cell_type": "code",
   "execution_count": 5,
   "metadata": {},
   "outputs": [
    {
     "data": {
      "text/plain": [
       "[{'gr': 'PR=', 'lex': 'по', 'wt': 1},\n",
       " {'gr': 'S,жен,неод=(пр,ед|дат,ед)', 'lex': 'река', 'wt': 1},\n",
       " {'gr': 'V,несов,нп=прош,ед,изъяв,муж', 'lex': 'плыть', 'wt': 1},\n",
       " {'gr': 'A=(вин,ед,полн,муж,неод|им,ед,полн,муж|пр,ед,полн,жен|дат,ед,полн,жен|род,ед,полн,жен|твор,ед,полн,жен)',\n",
       "  'lex': 'большой',\n",
       "  'wt': 1},\n",
       " {'gr': 'S,муж,неод=(вин,ед|им,ед)', 'lex': 'кораблик', 'wt': 1},\n",
       " {'gr': 'CONJ=', 'lex': 'и', 'wt': 0.9999770357000001},\n",
       " {'gr': 'V=прош,ед,изъяв,муж,несов,пе', 'lex': 'пускать', 'wt': 1},\n",
       " {'gr': 'S,муж,неод=(вин,ед|им,ед)', 'lex': 'дым', 'wt': 1}]"
      ]
     },
     "execution_count": 5,
     "metadata": {},
     "output_type": "execute_result"
    }
   ],
   "source": [
    "[a['analysis'][0] for a in pos.analyze('По реке плыл большой кораблик и пускал дым') if 'analysis' in a]"
   ]
  },
  {
   "cell_type": "code",
   "execution_count": 7,
   "metadata": {
    "collapsed": true
   },
   "outputs": [],
   "source": [
    "import pymorphy2 as pm"
   ]
  },
  {
   "cell_type": "code",
   "execution_count": 8,
   "metadata": {
    "collapsed": true
   },
   "outputs": [],
   "source": [
    "analyzer = pm.MorphAnalyzer()"
   ]
  },
  {
   "cell_type": "code",
   "execution_count": 17,
   "metadata": {},
   "outputs": [
    {
     "name": "stdout",
     "output_type": "stream",
     "text": [
      "PREP\n",
      "NOUN,inan,femn sing,loct\n",
      "VERB,impf,intr masc,sing,past,indc\n",
      "ADJF,Qual femn,sing,gent\n",
      "NOUN,inan,masc sing,nomn\n",
      "CONJ\n",
      "VERB,impf,tran masc,sing,past,indc\n",
      "NOUN,inan,masc sing,nomn\n"
     ]
    }
   ],
   "source": [
    "for token in 'По реке плыл большой кораблик и пускал дым'.split():\n",
    "    print(analyzer.parse(token)[0].tag)"
   ]
  },
  {
   "cell_type": "code",
   "execution_count": null,
   "metadata": {
    "collapsed": true
   },
   "outputs": [],
   "source": []
  }
 ],
 "metadata": {
  "kernelspec": {
   "display_name": "Python 3",
   "language": "python",
   "name": "python3"
  },
  "language_info": {
   "codemirror_mode": {
    "name": "ipython",
    "version": 3
   },
   "file_extension": ".py",
   "mimetype": "text/x-python",
   "name": "python",
   "nbconvert_exporter": "python",
   "pygments_lexer": "ipython3",
   "version": "3.6.3"
  }
 },
 "nbformat": 4,
 "nbformat_minor": 2
}
